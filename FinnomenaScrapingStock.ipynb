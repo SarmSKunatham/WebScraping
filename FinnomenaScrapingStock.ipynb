{
 "cells": [
  {
   "attachments": {},
   "cell_type": "markdown",
   "metadata": {},
   "source": [
    "# Dynamic Web Scraping"
   ]
  },
  {
   "cell_type": "code",
   "execution_count": 1,
   "metadata": {},
   "outputs": [],
   "source": [
    "from selenium import webdriver\n",
    "from selenium.webdriver.common.keys import Keys\n",
    "from selenium.webdriver.common.by import By\n",
    "import pandas as pd\n",
    "import time\n",
    "from tqdm import tqdm\n",
    "import warnings\n",
    "warnings.filterwarnings('ignore')"
   ]
  },
  {
   "attachments": {},
   "cell_type": "markdown",
   "metadata": {},
   "source": [
    "### Initialize web driver"
   ]
  },
  {
   "cell_type": "code",
   "execution_count": 2,
   "metadata": {},
   "outputs": [],
   "source": [
    "driver = webdriver.Chrome('usr/local/bin/chromedriver')\n",
    "driver.implicitly_wait(15)\n",
    "driver.maximize_window()"
   ]
  },
  {
   "cell_type": "code",
   "execution_count": 3,
   "metadata": {},
   "outputs": [
    {
     "name": "stdout",
     "output_type": "stream",
     "text": [
      "หุ้น EE งบการเงิน 10 ปี พร้อมกราฟ - FINNOMENA\n"
     ]
    }
   ],
   "source": [
    "url_ee = \"https://www.finnomena.com/stock/EE\"\n",
    "driver.get(url_ee)\n",
    "print(driver.title)"
   ]
  },
  {
   "attachments": {
    "image.png": {
     "image/png": "[encoded data removed]"
    }
   },
   "cell_type": "markdown",
   "metadata": {},
   "source": [
    "# Scraping Stocks\n",
    "\n",
    "![image.png](attachment:image.png)"
   ]
  },
  {
   "attachments": {},
   "cell_type": "markdown",
   "metadata": {},
   "source": [
    "#### Total Quarters"
   ]
  },
  {
   "cell_type": "code",
   "execution_count": 4,
   "metadata": {},
   "outputs": [
    {
     "name": "stdout",
     "output_type": "stream",
     "text": [
      "41\n",
      "['1Q2556', '2Q2556', '3Q2556', '4Q2556', '1Q2557', '2Q2557', '3Q2557', '4Q2557', '1Q2558', '2Q2558', '3Q2558', '4Q2558', '1Q2559', '2Q2559', '3Q2559', '4Q2559', '1Q2560', '2Q2560', '3Q2560', '4Q2560', '1Q2561', '2Q2561', '3Q2561', '4Q2561', '1Q2562', '2Q2562', '3Q2562', '4Q2562', '1Q2563', '2Q2563', '3Q2563', '4Q2563', '1Q2564', '2Q2564', '3Q2564', '4Q2564', '1Q2565', '2Q2565', '3Q2565', '4Q2565', '3/3/2566']\n"
     ]
    }
   ],
   "source": [
    "Q_XPATH = '//*[@id=\"stock-financial-ratio\"]/div/div/div/div/div[2]/div[2]/div/div[1]/div[@class=\"year\"]'\n",
    "q_elements = driver.find_elements(By.XPATH, Q_XPATH)\n",
    "# Check the number of elements\n",
    "print(len(q_elements))\n",
    "# Convert the elements into list of text\n",
    "q_list = [element.text for element in q_elements]\n",
    "print(q_list)"
   ]
  },
  {
   "cell_type": "code",
   "execution_count": 6,
   "metadata": {},
   "outputs": [
    {
     "name": "stdout",
     "output_type": "stream",
     "text": [
      "39\n",
      "39\n"
     ]
    }
   ],
   "source": [
    "table1_index = get_index_table_1(\"4Q2565\")\n",
    "print(table1_index)\n",
    "table2_index = get_index_table_2(\"4Q2565\")\n",
    "print(table2_index)"
   ]
  },
  {
   "attachments": {},
   "cell_type": "markdown",
   "metadata": {},
   "source": [
    "#### ROA%"
   ]
  },
  {
   "cell_type": "code",
   "execution_count": 7,
   "metadata": {},
   "outputs": [
    {
     "name": "stdout",
     "output_type": "stream",
     "text": [
      "41\n",
      "['0.10', '-0.18', '0.21', '0.63', '0.40', '0.00', '0.14', '-0.52', '-0.70', '-0.63', '-2.37', '-3.10', '0.35', '-0.51', '-6.44', '-4.00', '0.57', '0.48', '0.51', '1.84', '2.89', '-1.80', '1.99', '0.83', '1.55', '2.14', '1.15', '1.09', '-1.84', '2.56', '-2.64', '2.25', '0.76', '8.47', '1.79', '0.60', '-0.96', '-1.24', '-0.71', '-1.65', '']\n",
      "-1.65\n"
     ]
    }
   ],
   "source": [
    "ROA_XPATH = '//*[@id=\"stock-financial-ratio\"]/div/div/div/div/div[2]/div[2]/div/div[2]/div[@class=\"data-each\"]'\n",
    "roa_elements = driver.find_elements(By.XPATH, ROA_XPATH)\n",
    "# Check the number of elements\n",
    "print(len(roa_elements))\n",
    "# Convert the elements into list of text\n",
    "roa_list = [element.text for element in roa_elements]\n",
    "print(roa_list)\n",
    "print(roa_list[table1_index])"
   ]
  },
  {
   "attachments": {},
   "cell_type": "markdown",
   "metadata": {},
   "source": [
    "#### ROE%"
   ]
  },
  {
   "cell_type": "code",
   "execution_count": 8,
   "metadata": {},
   "outputs": [
    {
     "name": "stdout",
     "output_type": "stream",
     "text": [
      "41\n",
      "['0.10', '-0.18', '0.21', '0.64', '0.40', '0.00', '0.14', '-0.52', '-0.71', '-0.63', '-2.38', '-3.11', '0.35', '-0.52', '-6.46', '-4.01', '0.58', '0.49', '0.52', '1.87', '2.97', '-1.87', '2.08', '0.89', '1.67', '2.32', '1.25', '1.19', '-2.01', '2.83', '-2.93', '2.50', '0.84', '9.08', '1.88', '0.63', '-0.99', '-1.26', '-0.71', '-1.66', '']\n",
      "-1.66\n"
     ]
    }
   ],
   "source": [
    "ROE_XPATH = '//*[@id=\"stock-financial-ratio\"]/div/div/div/div/div[2]/div[2]/div/div[3]/div[@class=\"data-each\"]'\n",
    "roe_elements = driver.find_elements(By.XPATH, ROE_XPATH)\n",
    "# Check the number of elements\n",
    "print(len(roe_elements))\n",
    "# Convert the elements into list of text\n",
    "roe_list = [element.text for element in roe_elements]\n",
    "print(roe_list)\n",
    "print(roe_list[table1_index])"
   ]
  },
  {
   "attachments": {},
   "cell_type": "markdown",
   "metadata": {},
   "source": [
    "#### อัตรากำไรสุทธิ%"
   ]
  },
  {
   "cell_type": "code",
   "execution_count": 9,
   "metadata": {},
   "outputs": [
    {
     "name": "stdout",
     "output_type": "stream",
     "text": [
      "41\n",
      "['16.88', '-29.20', '31.55', '51.17', '44.61', '0.53', '17.50', '-152.18', '-409.44', '-472.75', '-814.71', '-3,898.36', '459.81', '-2,748.56', '-5,128.43', '-7,479.00', '1,169.71', '2,515.53', '280.92', '840.80', '5,281.32', '-1,938.32', '673.38', '130.17', '1,755.74', '6,188.17', '766.84', '1,297.90', '-1,811.00', '5,173.35', '-1,609.30', '7,975.28', '1,120.39', '130.32', '33.93', '-12.42', '-1,427.17', '17,294.16', '-167.44', '-472.55', '']\n",
      "-472.55\n"
     ]
    }
   ],
   "source": [
    "PROFIT_RATIO_XPATH = '//*[@id=\"stock-financial-ratio\"]/div/div/div/div/div[2]/div[2]/div/div[6]/div[@class=\"data-each\"]'\n",
    "profit_ratio_elements = driver.find_elements(By.XPATH, PROFIT_RATIO_XPATH)\n",
    "# Check the number of elements\n",
    "print(len(profit_ratio_elements))\n",
    "# Convert the elements into list of text\n",
    "profit_ratio_list = [element.text for element in profit_ratio_elements]\n",
    "print(profit_ratio_list)\n",
    "print(profit_ratio_list[table1_index])"
   ]
  },
  {
   "attachments": {},
   "cell_type": "markdown",
   "metadata": {},
   "source": [
    "#### P/E"
   ]
  },
  {
   "cell_type": "code",
   "execution_count": 10,
   "metadata": {},
   "outputs": [
    {
     "name": "stdout",
     "output_type": "stream",
     "text": [
      "41\n",
      "['55.90', '42.12', '36.42', '33.70', '229.82', '200.16', '174.73', '211.50', '11,970.47', 'N/A', 'N/A', 'N/A', 'N/A', 'N/A', 'N/A', 'N/A', 'N/A', 'N/A', 'N/A', 'N/A', '41.62', '24.84', '41.32', '24.96', '28.12', '37.52', '16.87', '18.20', '', '32.74', '43.97', 'N/A', '440.25', '63.75', '31.80', '20.87', '', '25.00', '597.68', 'N/A', 'N/A']\n",
      "N/A\n"
     ]
    }
   ],
   "source": [
    "PE_XPATH = '//*[@id=\"stock-statistics\"]/div/div/div/div/div[2]/div[2]/div/div[4]/div[@class=\"data-each\"]'\n",
    "pe_elements = driver.find_elements(By.XPATH, PE_XPATH)\n",
    "# Check the number of elements\n",
    "print(len(pe_elements))\n",
    "# Convert the elements into list of text\n",
    "pe_list = [element.text for element in pe_elements]\n",
    "print(pe_list)\n",
    "print(pe_list[table2_index])"
   ]
  },
  {
   "attachments": {},
   "cell_type": "markdown",
   "metadata": {},
   "source": [
    "#### P/BV"
   ]
  },
  {
   "cell_type": "code",
   "execution_count": 11,
   "metadata": {},
   "outputs": [
    {
     "name": "stdout",
     "output_type": "stream",
     "text": [
      "41\n",
      "['2.27', '1.78', '1.46', '1.35', '1.75', '2.12', '2.17', '2.47', '2.25', '2.11', '1.90', '1.88', '1.95', '1.99', '2.00', '2.25', '2.77', '2.52', '2.19', '1.83', '1.41', '1.41', '1.42', '1.23', '1.12', '1.02', '1.13', '1.08', '', '0.95', '1.44', '1.24', '1.51', '2.02', '2.89', '2.70', '', '2.46', '2.13', '2.07', '1.94']\n",
      "2.07\n"
     ]
    }
   ],
   "source": [
    "PBV_XPATH = '//*[@id=\"stock-statistics\"]/div/div/div/div/div[2]/div[2]/div/div[5]/div[@class=\"data-each\"]'\n",
    "pbv_elements = driver.find_elements(By.XPATH, PBV_XPATH)\n",
    "# Check the number of elements\n",
    "print(len(pbv_elements))\n",
    "# Convert the elements into list of text\n",
    "pbv_list = [element.text for element in pbv_elements]\n",
    "print(pbv_list)\n",
    "print(pbv_list[table2_index])"
   ]
  },
  {
   "attachments": {},
   "cell_type": "markdown",
   "metadata": {},
   "source": [
    "#### อัตราปันผล"
   ]
  },
  {
   "cell_type": "code",
   "execution_count": 12,
   "metadata": {},
   "outputs": [
    {
     "name": "stdout",
     "output_type": "stream",
     "text": [
      "41\n",
      "['0.00', '0.00', '0.00', '0.00', '0.00', '0.00', '0.00', '0.00', '0.00', '0.00', '0.00', '0.00', '0.00', '0.00', '0.00', '0.00', '0.00', '0.00', '0.00', '0.00', '0.00', '0.00', '0.00', '0.00', '0.00', '0.00', '0.00', '0.00', '0.00', '0.00', '0.00', '0.00', '0.00', '0.00', '0.00', '0.00', '0.00', '0.00', '0.00', '0.00', '0.00']\n",
      "0.00\n"
     ]
    }
   ],
   "source": [
    "DIV_YIELD_XPATH = '//*[@id=\"stock-statistics\"]/div/div/div/div/div[2]/div[2]/div/div[7]/div[@class=\"data-each\"]'\n",
    "div_yield_elements = driver.find_elements(By.XPATH, DIV_YIELD_XPATH)\n",
    "# Check the number of elements\n",
    "print(len(div_yield_elements))\n",
    "# Convert the elements into list of text\n",
    "div_yield_list = [element.text for element in div_yield_elements]\n",
    "print(div_yield_list)\n",
    "print(div_yield_list[table2_index])"
   ]
  },
  {
   "cell_type": "code",
   "execution_count": 13,
   "metadata": {},
   "outputs": [
    {
     "name": "stdout",
     "output_type": "stream",
     "text": [
      "Roa : -1.65\n",
      "Roe : -1.66\n",
      "Profit ratio : -472.55\n",
      "P/E : N/A\n",
      "P/BV : 2.07\n",
      "Divident yield : 0.00\n"
     ]
    }
   ],
   "source": [
    "print(f\"Roa : {get_roa(table1_index)}\")\n",
    "print(f\"Roe : {get_roe(table1_index)}\")\n",
    "print(f\"Profit ratio : {get_profit_ratio(table1_index)}\")\n",
    "print(f\"P/E : {get_pe(table2_index)}\")\n",
    "print(f\"P/BV : {get_pbv(table2_index)}\")\n",
    "print(f\"Divident yield : {get_div_yield(table2_index)}\")"
   ]
  },
  {
   "cell_type": "code",
   "execution_count": 14,
   "metadata": {},
   "outputs": [],
   "source": [
    "def get_index_table_1(Quarter):\n",
    "    try:\n",
    "        INDEX_TABLE_1_XPATH = '//*[@id=\"stock-financial-ratio\"]/div/div/div/div/div[2]/div[2]/div/div[1]/div[@class=\"year\"]'\n",
    "        index_table_1_elements = driver.find_elements(By.XPATH, INDEX_TABLE_1_XPATH)\n",
    "        # Convert the elements into list of text\n",
    "        index_table_1_list = [element.text for element in index_table_1_elements]\n",
    "        quater_index = index_table_1_list.index(Quarter)\n",
    "        return quater_index\n",
    "    except:\n",
    "        return -1\n",
    "\n",
    "def get_index_table_2(Quarter):\n",
    "    try:\n",
    "        INDEX_TABLE_2_XPATH = '//*[@id=\"stock-statistics\"]/div/div/div/div/div[2]/div[2]/div/div[1]/div[@class=\"year\"]'\n",
    "        index_table_2_elements = driver.find_elements(By.XPATH, INDEX_TABLE_2_XPATH)\n",
    "        # Convert the elements into list of text\n",
    "        index_table_2_list = [element.text for element in index_table_2_elements]\n",
    "        quater_index = index_table_2_list.index(Quarter)\n",
    "        return quater_index\n",
    "    except:\n",
    "        return -1\n",
    "\n",
    "def is_40Quarter():\n",
    "    try:\n",
    "        Q_XPATH = '//*[@id=\"stock-financial-ratio\"]/div/div/div/div/div[2]/div[2]/div/div[1]/div[@class=\"year\"]'\n",
    "        q_elements = driver.find_elements(By.XPATH, Q_XPATH)\n",
    "        # Convert the elements into list of text\n",
    "        q_list = [element.text for element in q_elements]\n",
    "        # Check if Q3 is in the list\n",
    "        if len(q_list) == 40:\n",
    "            return True\n",
    "        else:\n",
    "            return False\n",
    "    except:\n",
    "        return False\n",
    "\n",
    "def get_roa(Q_index):\n",
    "    try:\n",
    "        ROA_XPATH = '//*[@id=\"stock-financial-ratio\"]/div/div/div/div/div[2]/div[2]/div/div[2]/div[@class=\"data-each\"]'\n",
    "        roa_elements = driver.find_elements(By.XPATH, ROA_XPATH)\n",
    "        # Convert the elements into list of text\n",
    "        roa_list = [element.text for element in roa_elements]\n",
    "        roa_value = roa_list[Q_index]\n",
    "        return roa_value\n",
    "    except:\n",
    "        return \"\"\n",
    "\n",
    "def get_roe(Q_index):\n",
    "    try:\n",
    "        ROE_XPATH = '//*[@id=\"stock-financial-ratio\"]/div/div/div/div/div[2]/div[2]/div/div[3]/div[@class=\"data-each\"]'\n",
    "        roe_elements = driver.find_elements(By.XPATH, ROE_XPATH)\n",
    "        # Convert the elements into list of text\n",
    "        roe_list = [element.text for element in roe_elements]\n",
    "        roe_value = roe_list[Q_index]\n",
    "        return roe_value\n",
    "    except:\n",
    "        return \"\"\n",
    "\n",
    "def get_profit_ratio(Q_index):\n",
    "    try:\n",
    "        PROFIT_RATIO_XPATH = '//*[@id=\"stock-financial-ratio\"]/div/div/div/div/div[2]/div[2]/div/div[6]/div[@class=\"data-each\"]'\n",
    "        profit_ratio_elements = driver.find_elements(By.XPATH, PROFIT_RATIO_XPATH)\n",
    "        # Convert the elements into list of text\n",
    "        profit_ratio_list = [element.text for element in profit_ratio_elements]\n",
    "        profit_ratio_value = profit_ratio_list[Q_index]\n",
    "        return profit_ratio_value\n",
    "    except:\n",
    "        return \"\"\n",
    "\n",
    "def get_pe(Q_index):\n",
    "    try:\n",
    "        PE_XPATH = '//*[@id=\"stock-statistics\"]/div/div/div/div/div[2]/div[2]/div/div[4]/div[@class=\"data-each\"]'\n",
    "        pe_elements = driver.find_elements(By.XPATH, PE_XPATH)\n",
    "        # Convert the elements into list of text\n",
    "        pe_list = [element.text for element in pe_elements]\n",
    "        pe_value = pe_list[Q_index]\n",
    "        return pe_value\n",
    "    except:\n",
    "        return \"\"\n",
    "\n",
    "def get_pbv(Q_index):\n",
    "    try:\n",
    "        PBV_XPATH = '//*[@id=\"stock-statistics\"]/div/div/div/div/div[2]/div[2]/div/div[5]/div[@class=\"data-each\"]'\n",
    "        pbv_elements = driver.find_elements(By.XPATH, PBV_XPATH)\n",
    "        # Convert the elements into list of text\n",
    "        pbv_list = [element.text for element in pbv_elements]\n",
    "        pbv_value = pbv_list[Q_index]\n",
    "        return pbv_value\n",
    "    except:\n",
    "        return \"\"\n",
    "\n",
    "def get_div_yield(Q_index):\n",
    "    try:\n",
    "        DIV_YIELD_XPATH = '//*[@id=\"stock-statistics\"]/div/div/div/div/div[2]/div[2]/div/div[7]/div[@class=\"data-each\"]'\n",
    "        div_yield_elements = driver.find_elements(By.XPATH, DIV_YIELD_XPATH)\n",
    "        # Convert the elements into list of text\n",
    "        div_yield_list = [element.text for element in div_yield_elements]\n",
    "        div_yield_value = div_yield_list[Q_index]\n",
    "        return div_yield_value\n",
    "    except:\n",
    "        return \"\"\n"
   ]
  },
  {
   "cell_type": "code",
   "execution_count": 16,
   "metadata": {},
   "outputs": [
    {
     "data": {
      "text/html": [
       "<div>\n",
       "<style scoped>\n",
       "    .dataframe tbody tr th:only-of-type {\n",
       "        vertical-align: middle;\n",
       "    }\n",
       "\n",
       "    .dataframe tbody tr th {\n",
       "        vertical-align: top;\n",
       "    }\n",
       "\n",
       "    .dataframe thead th {\n",
       "        text-align: right;\n",
       "    }\n",
       "</style>\n",
       "<table border=\"1\" class=\"dataframe\">\n",
       "  <thead>\n",
       "    <tr style=\"text-align: right;\">\n",
       "      <th></th>\n",
       "      <th>รายชื่อหุ้น</th>\n",
       "      <th>Line</th>\n",
       "    </tr>\n",
       "  </thead>\n",
       "  <tbody>\n",
       "    <tr>\n",
       "      <th>0</th>\n",
       "      <td>EE</td>\n",
       "      <td>https://www.finnomena.com/stock/EE</td>\n",
       "    </tr>\n",
       "    <tr>\n",
       "      <th>1</th>\n",
       "      <td>GFPT</td>\n",
       "      <td>https://www.finnomena.com/stock/GFPT</td>\n",
       "    </tr>\n",
       "    <tr>\n",
       "      <th>2</th>\n",
       "      <td>LEE</td>\n",
       "      <td>https://www.finnomena.com/stock/LEE</td>\n",
       "    </tr>\n",
       "    <tr>\n",
       "      <th>3</th>\n",
       "      <td>MAX</td>\n",
       "      <td>https://www.finnomena.com/stock/MAX</td>\n",
       "    </tr>\n",
       "    <tr>\n",
       "      <th>4</th>\n",
       "      <td>NER</td>\n",
       "      <td>https://www.finnomena.com/stock/NER</td>\n",
       "    </tr>\n",
       "  </tbody>\n",
       "</table>\n",
       "</div>"
      ],
      "text/plain": [
       "  รายชื่อหุ้น                                  Line\n",
       "0          EE    https://www.finnomena.com/stock/EE\n",
       "1        GFPT  https://www.finnomena.com/stock/GFPT\n",
       "2         LEE   https://www.finnomena.com/stock/LEE\n",
       "3         MAX   https://www.finnomena.com/stock/MAX\n",
       "4         NER   https://www.finnomena.com/stock/NER"
      ]
     },
     "execution_count": 16,
     "metadata": {},
     "output_type": "execute_result"
    }
   ],
   "source": [
    "old_stock_path = \"/Users/sarmkunatham/Desktop/GithubCodes/WebScraping/finnomena - 2555-2565.csv\"\n",
    "old_stock_df = pd.read_csv(old_stock_path, header=1)\n",
    "new_stock_df = old_stock_df[[\"รายชื่อหุ้น\", \"Line\"]]\n",
    "\n",
    "new_stock_df.head()\n"
   ]
  },
  {
   "cell_type": "code",
   "execution_count": 18,
   "metadata": {},
   "outputs": [
    {
     "name": "stderr",
     "output_type": "stream",
     "text": [
      "  0%|          | 0/200 [00:00<?, ?it/s]\n"
     ]
    },
    {
     "ename": "WebDriverException",
     "evalue": "Message: disconnected: not connected to DevTools\n  (failed to check if window was closed: disconnected: not connected to DevTools)\n  (Session info: chrome=110.0.5481.177)\nStacktrace:\n0   chromedriver                        0x0000000100642138 chromedriver + 4923704\n1   chromedriver                        0x00000001005ba9d3 chromedriver + 4368851\n2   chromedriver                        0x0000000100203787 chromedriver + 472967\n3   chromedriver                        0x00000001001eabaf chromedriver + 371631\n4   chromedriver                        0x00000001001ea933 chromedriver + 370995\n5   chromedriver                        0x0000000100205392 chromedriver + 480146\n6   chromedriver                        0x000000010028b31f chromedriver + 1028895\n7   chromedriver                        0x0000000100270d23 chromedriver + 920867\n8   chromedriver                        0x0000000100237a4b chromedriver + 686667\n9   chromedriver                        0x0000000100239044 chromedriver + 692292\n10  chromedriver                        0x000000010060d8fe chromedriver + 4708606\n11  chromedriver                        0x0000000100612e22 chromedriver + 4730402\n12  chromedriver                        0x000000010061b6bf chromedriver + 4765375\n13  chromedriver                        0x0000000100613e80 chromedriver + 4734592\n14  chromedriver                        0x00000001005e4975 chromedriver + 4540789\n15  chromedriver                        0x0000000100635e78 chromedriver + 4873848\n16  chromedriver                        0x0000000100635ff5 chromedriver + 4874229\n17  chromedriver                        0x000000010064a6de chromedriver + 4957918\n18  libsystem_pthread.dylib             0x00007ff803363259 _pthread_start + 125\n19  libsystem_pthread.dylib             0x00007ff80335ec7b thread_start + 15\n",
     "output_type": "error",
     "traceback": [
      "\u001b[0;31m---------------------------------------------------------------------------\u001b[0m",
      "\u001b[0;31mWebDriverException\u001b[0m                        Traceback (most recent call last)",
      "Cell \u001b[0;32mIn[18], line 11\u001b[0m\n\u001b[1;32m      9\u001b[0m stock_url \u001b[39m=\u001b[39m row[\u001b[39m\"\u001b[39m\u001b[39mLine\u001b[39m\u001b[39m\"\u001b[39m]\n\u001b[1;32m     10\u001b[0m \u001b[39m# Navigate to the stock page\u001b[39;00m\n\u001b[0;32m---> 11\u001b[0m driver\u001b[39m.\u001b[39;49mget(stock_url)\n\u001b[1;32m     13\u001b[0m \u001b[39m# Get the index of the quarter from two tables\u001b[39;00m\n\u001b[1;32m     14\u001b[0m table1_index \u001b[39m=\u001b[39m get_index_table_1(quarter)\n",
      "File \u001b[0;32m/opt/homebrew/anaconda3/envs/scraping/lib/python3.8/site-packages/selenium/webdriver/remote/webdriver.py:449\u001b[0m, in \u001b[0;36mWebDriver.get\u001b[0;34m(self, url)\u001b[0m\n\u001b[1;32m    447\u001b[0m \u001b[39mdef\u001b[39;00m \u001b[39mget\u001b[39m(\u001b[39mself\u001b[39m, url: \u001b[39mstr\u001b[39m) \u001b[39m-\u001b[39m\u001b[39m>\u001b[39m \u001b[39mNone\u001b[39;00m:\n\u001b[1;32m    448\u001b[0m \u001b[39m    \u001b[39m\u001b[39m\"\"\"Loads a web page in the current browser session.\"\"\"\u001b[39;00m\n\u001b[0;32m--> 449\u001b[0m     \u001b[39mself\u001b[39;49m\u001b[39m.\u001b[39;49mexecute(Command\u001b[39m.\u001b[39;49mGET, {\u001b[39m\"\u001b[39;49m\u001b[39murl\u001b[39;49m\u001b[39m\"\u001b[39;49m: url})\n",
      "File \u001b[0;32m/opt/homebrew/anaconda3/envs/scraping/lib/python3.8/site-packages/selenium/webdriver/remote/webdriver.py:440\u001b[0m, in \u001b[0;36mWebDriver.execute\u001b[0;34m(self, driver_command, params)\u001b[0m\n\u001b[1;32m    438\u001b[0m response \u001b[39m=\u001b[39m \u001b[39mself\u001b[39m\u001b[39m.\u001b[39mcommand_executor\u001b[39m.\u001b[39mexecute(driver_command, params)\n\u001b[1;32m    439\u001b[0m \u001b[39mif\u001b[39;00m response:\n\u001b[0;32m--> 440\u001b[0m     \u001b[39mself\u001b[39;49m\u001b[39m.\u001b[39;49merror_handler\u001b[39m.\u001b[39;49mcheck_response(response)\n\u001b[1;32m    441\u001b[0m     response[\u001b[39m\"\u001b[39m\u001b[39mvalue\u001b[39m\u001b[39m\"\u001b[39m] \u001b[39m=\u001b[39m \u001b[39mself\u001b[39m\u001b[39m.\u001b[39m_unwrap_value(response\u001b[39m.\u001b[39mget(\u001b[39m\"\u001b[39m\u001b[39mvalue\u001b[39m\u001b[39m\"\u001b[39m, \u001b[39mNone\u001b[39;00m))\n\u001b[1;32m    442\u001b[0m     \u001b[39mreturn\u001b[39;00m response\n",
      "File \u001b[0;32m/opt/homebrew/anaconda3/envs/scraping/lib/python3.8/site-packages/selenium/webdriver/remote/errorhandler.py:245\u001b[0m, in \u001b[0;36mErrorHandler.check_response\u001b[0;34m(self, response)\u001b[0m\n\u001b[1;32m    243\u001b[0m         alert_text \u001b[39m=\u001b[39m value[\u001b[39m\"\u001b[39m\u001b[39malert\u001b[39m\u001b[39m\"\u001b[39m]\u001b[39m.\u001b[39mget(\u001b[39m\"\u001b[39m\u001b[39mtext\u001b[39m\u001b[39m\"\u001b[39m)\n\u001b[1;32m    244\u001b[0m     \u001b[39mraise\u001b[39;00m exception_class(message, screen, stacktrace, alert_text)  \u001b[39m# type: ignore[call-arg]  # mypy is not smart enough here\u001b[39;00m\n\u001b[0;32m--> 245\u001b[0m \u001b[39mraise\u001b[39;00m exception_class(message, screen, stacktrace)\n",
      "\u001b[0;31mWebDriverException\u001b[0m: Message: disconnected: not connected to DevTools\n  (failed to check if window was closed: disconnected: not connected to DevTools)\n  (Session info: chrome=110.0.5481.177)\nStacktrace:\n0   chromedriver                        0x0000000100642138 chromedriver + 4923704\n1   chromedriver                        0x00000001005ba9d3 chromedriver + 4368851\n2   chromedriver                        0x0000000100203787 chromedriver + 472967\n3   chromedriver                        0x00000001001eabaf chromedriver + 371631\n4   chromedriver                        0x00000001001ea933 chromedriver + 370995\n5   chromedriver                        0x0000000100205392 chromedriver + 480146\n6   chromedriver                        0x000000010028b31f chromedriver + 1028895\n7   chromedriver                        0x0000000100270d23 chromedriver + 920867\n8   chromedriver                        0x0000000100237a4b chromedriver + 686667\n9   chromedriver                        0x0000000100239044 chromedriver + 692292\n10  chromedriver                        0x000000010060d8fe chromedriver + 4708606\n11  chromedriver                        0x0000000100612e22 chromedriver + 4730402\n12  chromedriver                        0x000000010061b6bf chromedriver + 4765375\n13  chromedriver                        0x0000000100613e80 chromedriver + 4734592\n14  chromedriver                        0x00000001005e4975 chromedriver + 4540789\n15  chromedriver                        0x0000000100635e78 chromedriver + 4873848\n16  chromedriver                        0x0000000100635ff5 chromedriver + 4874229\n17  chromedriver                        0x000000010064a6de chromedriver + 4957918\n18  libsystem_pthread.dylib             0x00007ff803363259 _pthread_start + 125\n19  libsystem_pthread.dylib             0x00007ff80335ec7b thread_start + 15\n"
     ]
    }
   ],
   "source": [
    "missing_value_df = pd.DataFrame(columns=[\"รายชื่อหุ้น\", \"Line\"])\n",
    "quarter = \"4Q2565\"\n",
    "start_row = 0\n",
    "end_row = 200\n",
    "# end_row = len(new_stock_df)\n",
    "\n",
    "\n",
    "for index, row in tqdm(new_stock_df[start_row: end_row].iterrows(), total=new_stock_df[start_row: end_row].shape[0]):\n",
    "    stock_url = row[\"Line\"]\n",
    "    # Navigate to the stock page\n",
    "    driver.get(stock_url)\n",
    "    \n",
    "    # Get the index of the quarter from two tables\n",
    "    table1_index = get_index_table_1(quarter)\n",
    "    table2_index = get_index_table_2(quarter)\n",
    "\n",
    "    # Check if Quarter 3 2565 exist\n",
    "    if not (table1_index == -1 or table2_index == -1):\n",
    "        roa_value = get_roa(table1_index)\n",
    "        roe_value = get_roe(table1_index)\n",
    "        profit_ratio_value = get_profit_ratio(table1_index)\n",
    "        pe_value = get_pe(table2_index)\n",
    "        pbv_value = get_pbv(table2_index)\n",
    "        div_yield_value = get_div_yield(table2_index)\n",
    "\n",
    "    else:\n",
    "        \n",
    "        missing_value_df.loc[index, \"รายชื่อหุ้น\"] = row[\"รายชื่อหุ้น\"]\n",
    "        missing_value_df.loc[index, \"Line\"] = row[\"Line\"]\n",
    "        missing_value_df.loc[index, quarter] = f\"No {quarter}\"\n",
    "        roa_value = \"\"\n",
    "        roe_value = \"\"\n",
    "        profit_ratio_value = \"\"\n",
    "        pe_value = \"\"\n",
    "        pbv_value = \"\"\n",
    "        div_yield_value = \"\"\n",
    "        \n",
    "    new_stock_df.loc[index, \"ROA%\"] = roa_value\n",
    "    new_stock_df.loc[index, \"ROE%\"] = roe_value\n",
    "    new_stock_df.loc[index, \"อัตรากำไรสุทธิ%\"] = profit_ratio_value\n",
    "    new_stock_df.loc[index, \"P/E\"] = pe_value\n",
    "    new_stock_df.loc[index, \"P/BV\"] = pbv_value\n",
    "    new_stock_df.loc[index, \"อัตราปันผล%\"] = div_yield_value\n",
    "\n",
    "\n",
    "new_stock_df.to_csv(f'Finnomena_Stock_{quarter}_{start_row}-{end_row}.csv', index=False)\n",
    "missing_value_df.to_csv(f'MissValue_Finnomena_{quarter}_{start_row}-{end_row}.csv', index=True)\n",
    "print('Finish !!!')\n",
    "print('Missing Value: ', missing_value_df.shape[0])\n",
    "\n",
    "\n",
    "    "
   ]
  },
  {
   "cell_type": "code",
   "execution_count": 59,
   "metadata": {},
   "outputs": [],
   "source": [
    "missing_value_df_1 = pd.read_csv(\"/Users/sarmkunatham/Desktop/GithubCodes/WebScraping/MissValue_Finnomena_{quarter}_0-200.csv\", index_col=0)\n",
    "missing_value_df_2 = pd.read_csv(\"/Users/sarmkunatham/Desktop/GithubCodes/WebScraping/MissValue_Finnomena_{quarter}_200-400.csv\", index_col=0)\n",
    "missing_value_df_3 = pd.read_csv(\"/Users/sarmkunatham/Desktop/GithubCodes/WebScraping/MissValue_Finnomena_{quarter}_400-854.csv\", index_col=0)"
   ]
  },
  {
   "cell_type": "code",
   "execution_count": 60,
   "metadata": {},
   "outputs": [
    {
     "data": {
      "text/html": [
       "<div>\n",
       "<style scoped>\n",
       "    .dataframe tbody tr th:only-of-type {\n",
       "        vertical-align: middle;\n",
       "    }\n",
       "\n",
       "    .dataframe tbody tr th {\n",
       "        vertical-align: top;\n",
       "    }\n",
       "\n",
       "    .dataframe thead th {\n",
       "        text-align: right;\n",
       "    }\n",
       "</style>\n",
       "<table border=\"1\" class=\"dataframe\">\n",
       "  <thead>\n",
       "    <tr style=\"text-align: right;\">\n",
       "      <th></th>\n",
       "      <th>รายชื่อหุ้น</th>\n",
       "      <th>Line</th>\n",
       "      <th>Q32565</th>\n",
       "    </tr>\n",
       "  </thead>\n",
       "  <tbody>\n",
       "    <tr>\n",
       "      <th>3</th>\n",
       "      <td>MAX</td>\n",
       "      <td>https://www.finnomena.com/stock/MAX</td>\n",
       "      <td>No Q3 2565</td>\n",
       "    </tr>\n",
       "    <tr>\n",
       "      <th>122</th>\n",
       "      <td>BFIT</td>\n",
       "      <td>https://www.finnomena.com/stock/BFIT</td>\n",
       "      <td>No Q3 2565</td>\n",
       "    </tr>\n",
       "    <tr>\n",
       "      <th>130</th>\n",
       "      <td>GL</td>\n",
       "      <td>https://www.finnomena.com/stock/GL</td>\n",
       "      <td>No Q3 2565</td>\n",
       "    </tr>\n",
       "    <tr>\n",
       "      <th>173</th>\n",
       "      <td>3K-BAT</td>\n",
       "      <td>https://www.finnomena.com/stock/3K-BAT</td>\n",
       "      <td>No Q3 2565</td>\n",
       "    </tr>\n",
       "    <tr>\n",
       "      <th>181</th>\n",
       "      <td>INGRS</td>\n",
       "      <td>https://www.finnomena.com/stock/INGRS</td>\n",
       "      <td>No Q3 2565</td>\n",
       "    </tr>\n",
       "    <tr>\n",
       "      <th>319</th>\n",
       "      <td>PACE</td>\n",
       "      <td>https://www.finnomena.com/stock/PACE</td>\n",
       "      <td>No Q3 2565</td>\n",
       "    </tr>\n",
       "    <tr>\n",
       "      <th>339</th>\n",
       "      <td>U</td>\n",
       "      <td>https://www.finnomena.com/stock/U</td>\n",
       "      <td>No Q3 2565</td>\n",
       "    </tr>\n",
       "    <tr>\n",
       "      <th>354</th>\n",
       "      <td>DREIT</td>\n",
       "      <td>https://www.finnomena.com/stock/DREIT</td>\n",
       "      <td>No Q3 2565</td>\n",
       "    </tr>\n",
       "    <tr>\n",
       "      <th>613</th>\n",
       "      <td>NOK</td>\n",
       "      <td>https://www.finnomena.com/stock/NOK</td>\n",
       "      <td>No Q3 2565</td>\n",
       "    </tr>\n",
       "    <tr>\n",
       "      <th>681</th>\n",
       "      <td>JP</td>\n",
       "      <td>https://www.finnomena.com/stock/JP</td>\n",
       "      <td>No Q3 2565</td>\n",
       "    </tr>\n",
       "    <tr>\n",
       "      <th>726</th>\n",
       "      <td>SWC</td>\n",
       "      <td>https://www.finnomena.com/stock/SWC</td>\n",
       "      <td>No Q3 2565</td>\n",
       "    </tr>\n",
       "    <tr>\n",
       "      <th>814</th>\n",
       "      <td>NBC</td>\n",
       "      <td>https://www.finnomena.com/stock/NBC</td>\n",
       "      <td>No Q3 2565</td>\n",
       "    </tr>\n",
       "    <tr>\n",
       "      <th>820</th>\n",
       "      <td>PICO</td>\n",
       "      <td>https://www.finnomena.com/stock/PICO</td>\n",
       "      <td>No Q3 2565</td>\n",
       "    </tr>\n",
       "    <tr>\n",
       "      <th>831</th>\n",
       "      <td>TSF</td>\n",
       "      <td>https://www.finnomena.com/stock/TSF</td>\n",
       "      <td>No Q3 2565</td>\n",
       "    </tr>\n",
       "  </tbody>\n",
       "</table>\n",
       "</div>"
      ],
      "text/plain": [
       "    รายชื่อหุ้น                                    Line      Q32565\n",
       "3           MAX     https://www.finnomena.com/stock/MAX  No Q3 2565\n",
       "122        BFIT    https://www.finnomena.com/stock/BFIT  No Q3 2565\n",
       "130          GL      https://www.finnomena.com/stock/GL  No Q3 2565\n",
       "173      3K-BAT  https://www.finnomena.com/stock/3K-BAT  No Q3 2565\n",
       "181       INGRS   https://www.finnomena.com/stock/INGRS  No Q3 2565\n",
       "319        PACE    https://www.finnomena.com/stock/PACE  No Q3 2565\n",
       "339           U       https://www.finnomena.com/stock/U  No Q3 2565\n",
       "354       DREIT   https://www.finnomena.com/stock/DREIT  No Q3 2565\n",
       "613         NOK     https://www.finnomena.com/stock/NOK  No Q3 2565\n",
       "681          JP      https://www.finnomena.com/stock/JP  No Q3 2565\n",
       "726         SWC     https://www.finnomena.com/stock/SWC  No Q3 2565\n",
       "814         NBC     https://www.finnomena.com/stock/NBC  No Q3 2565\n",
       "820        PICO    https://www.finnomena.com/stock/PICO  No Q3 2565\n",
       "831         TSF     https://www.finnomena.com/stock/TSF  No Q3 2565"
      ]
     },
     "execution_count": 60,
     "metadata": {},
     "output_type": "execute_result"
    }
   ],
   "source": [
    "# Concatenate the three dataframes\n",
    "merge_missing_value_df = pd.concat([missing_value_df_1, missing_value_df_2, missing_value_df_3])\n",
    "merge_missing_value_df"
   ]
  },
  {
   "cell_type": "code",
   "execution_count": 61,
   "metadata": {},
   "outputs": [],
   "source": [
    "merge_missing_value_df.to_csv(\"Extra_MissValue_Finnomena_Q3_2565.csv\", index=True)"
   ]
  }
 ],
 "metadata": {
  "kernelspec": {
   "display_name": "scraping",
   "language": "python",
   "name": "python3"
  },
  "language_info": {
   "codemirror_mode": {
    "name": "ipython",
    "version": 3
   },
   "file_extension": ".py",
   "mimetype": "text/x-python",
   "name": "python",
   "nbconvert_exporter": "python",
   "pygments_lexer": "ipython3",
   "version": "3.8.16"
  },
  "orig_nbformat": 4,
  "vscode": {
   "interpreter": {
    "hash": "9e4f5d2c698c299e54b3549f11343546f7e9e66d0db978ae2e0ac2d06337f69a"
   }
  }
 },
 "nbformat": 4,
 "nbformat_minor": 2
}
